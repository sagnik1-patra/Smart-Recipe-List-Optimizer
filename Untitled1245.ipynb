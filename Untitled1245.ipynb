{
 "cells": [
  {
   "cell_type": "code",
   "execution_count": 2,
   "id": "2a2ff757-9ed1-488e-b0d9-6f3e04b28377",
   "metadata": {},
   "outputs": [
    {
     "name": "stdout",
     "output_type": "stream",
     "text": [
      "[OK] Bootstrapped labels written to → C:\\Users\\sagni\\Downloads\\Smart Grocery List Optimizer\\labels.csv\n",
      "Now re-run the accuracy/heatmap cell.\n"
     ]
    }
   ],
   "source": [
    "import pandas as pd\n",
    "from pathlib import Path\n",
    "\n",
    "BASE_DIR   = r\"C:\\Users\\sagni\\Downloads\\Smart Grocery List Optimizer\"\n",
    "SCORES_CSV = str(Path(BASE_DIR) / \"scores_full.csv\")\n",
    "LABELS_CSV = str(Path(BASE_DIR) / \"labels.csv\")\n",
    "\n",
    "scores = pd.read_csv(SCORES_CSV)\n",
    "scores = scores.sort_values(\"score\", ascending=False).reset_index(drop=True)\n",
    "\n",
    "pos_n = 100  # how many positives to mark\n",
    "neg_n = 100  # how many negatives to mark (after positives)\n",
    "\n",
    "labels = pd.DataFrame({\n",
    "    \"id\":   pd.concat([scores.loc[:pos_n-1, \"id\"], scores.loc[pos_n:pos_n+neg_n-1, \"id\"]]).values,\n",
    "    \"name\": pd.concat([scores.loc[:pos_n-1, \"name\"], scores.loc[pos_n:pos_n+neg_n-1, \"name\"]]).values,\n",
    "    \"label\": [1]*pos_n + [0]*neg_n\n",
    "})\n",
    "\n",
    "# Merge with any existing labels so you don't lose manual edits\n",
    "if Path(LABELS_CSV).exists():\n",
    "    old = pd.read_csv(LABELS_CSV)\n",
    "    if \"label\" not in old.columns:\n",
    "        old[\"label\"] = \"\"\n",
    "    merged = old.merge(labels[[\"id\",\"label\"]], on=\"id\", how=\"outer\", suffixes=(\"\", \"_new\"))\n",
    "    merged[\"label\"] = merged[\"label\"].where(merged[\"label\"].astype(str).str.strip()!=\"\", merged[\"label_new\"])\n",
    "    merged = merged.drop(columns=[c for c in merged.columns if c.endswith(\"_new\")])\n",
    "else:\n",
    "    # include name & score for convenience in the template\n",
    "    merged = scores[[\"id\",\"name\",\"score\"]].merge(labels[[\"id\",\"label\"]], on=\"id\", how=\"left\")\n",
    "    merged[\"label\"] = merged[\"label\"].fillna(\"\")\n",
    "\n",
    "merged.to_csv(LABELS_CSV, index=False, encoding=\"utf-8\")\n",
    "print(f\"[OK] Bootstrapped labels written to → {LABELS_CSV}\\nNow re-run the accuracy/heatmap cell.\")\n"
   ]
  },
  {
   "cell_type": "code",
   "execution_count": null,
   "id": "1f6156c2-5dcb-4e05-9eff-06e8f9a70d63",
   "metadata": {},
   "outputs": [],
   "source": []
  }
 ],
 "metadata": {
  "kernelspec": {
   "display_name": "Python 3.11 (moviepy)",
   "language": "python",
   "name": "py311"
  },
  "language_info": {
   "codemirror_mode": {
    "name": "ipython",
    "version": 3
   },
   "file_extension": ".py",
   "mimetype": "text/x-python",
   "name": "python",
   "nbconvert_exporter": "python",
   "pygments_lexer": "ipython3",
   "version": "3.11.9"
  }
 },
 "nbformat": 4,
 "nbformat_minor": 5
}
